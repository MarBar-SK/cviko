{
  "metadata": {
    "kernelspec": {
      "language": "python",
      "display_name": "Python 3",
      "name": "python3"
    },
    "language_info": {
      "pygments_lexer": "ipython3",
      "nbconvert_exporter": "python",
      "version": "3.6.4",
      "file_extension": ".py",
      "codemirror_mode": {
        "name": "ipython",
        "version": 3
      },
      "name": "python",
      "mimetype": "text/x-python"
    },
    "colab": {
      "name": "Jupyter Notebook 101",
      "provenance": [],
      "include_colab_link": true
    }
  },
  "nbformat_minor": 0,
  "nbformat": 4,
  "cells": [
    {
      "cell_type": "markdown",
      "metadata": {
        "id": "view-in-github",
        "colab_type": "text"
      },
      "source": [
        "<a href=\"https://colab.research.google.com/github/MarBar-SK/cviko/blob/main/Jupyter_Notebook_101.ipynb\" target=\"_parent\"><img src=\"https://colab.research.google.com/assets/colab-badge.svg\" alt=\"Open In Colab\"/></a>"
      ]
    },
    {
      "cell_type": "markdown",
      "source": [
        "## Introduction"
      ],
      "metadata": {
        "id": "E38LKztQKXc8"
      }
    },
    {
      "cell_type": "markdown",
      "source": [
        "Let's build up from the basics: what is a Jupyter Notebook? A notebook is a document made of cells. You can write in some of them (markdown cells) or you can perform calculations in Python (code cells) and run them like this:"
      ],
      "metadata": {
        "id": "BYBEv7XtKXdA"
      }
    },
    {
      "cell_type": "code",
      "source": [
        "489*15549\n"
      ],
      "metadata": {
        "execution": {
          "iopub.status.busy": "2022-04-24T20:00:06.294808Z",
          "iopub.execute_input": "2022-04-24T20:00:06.295342Z",
          "iopub.status.idle": "2022-04-24T20:00:06.32586Z",
          "shell.execute_reply.started": "2022-04-24T20:00:06.295213Z",
          "shell.execute_reply": "2022-04-24T20:00:06.324876Z"
        },
        "trusted": true,
        "id": "SqiRJkyIKXdE",
        "outputId": "af4d2a4c-c415-4b9b-9b17-63c5e0d08b10",
        "colab": {
          "base_uri": "https://localhost:8080/"
        }
      },
      "execution_count": 11,
      "outputs": [
        {
          "output_type": "execute_result",
          "data": {
            "text/plain": [
              "7603461"
            ]
          },
          "metadata": {},
          "execution_count": 11
        }
      ]
    },
    {
      "cell_type": "markdown",
      "source": [
        "Cool, huh? This combination of prose and code makes Jupyter Notebook ideal for experimentation: we can see the rationale for each experiment, the code, and the results in one comprehensive document.\n",
        "\n",
        "Try it yourself now. Click \"Copy & Edit\" in the top right to get your own editable version of this notebook, then click the cell above and hit `Shift`-`Enter`.\n",
        "\n",
        "Other renowned institutions in academia and industry use Jupyter Notebook, including Google, Microsoft, IBM, Bloomberg, Berkeley and NASA among others. Even Nobel-winning economists [use Jupyter Notebooks](https://paulromer.net/jupyter-mathematica-and-the-future-of-the-research-paper/)  for their experiments and some suggest that Jupyter Notebooks will be the [new format for research papers](https://www.theatlantic.com/science/archive/2018/04/the-scientific-paper-is-obsolete/556676/).\n"
      ],
      "metadata": {
        "id": "5sfNz54xKXdH"
      }
    },
    {
      "cell_type": "markdown",
      "source": [
        "*****\n"
      ],
      "metadata": {
        "id": "A4y6jTocKXdK"
      }
    },
    {
      "cell_type": "markdown",
      "source": [
        "A type of cell in which you can write text is called a _Markdown cell_. [_Markdown_](https://en.wikipedia.org/wiki/Markdown) is a very popular markup language. To specify that a cell is Markdown you need to click in the drop-down menu in the toolbar and select Markdown.\n",
        "\n",
        "Click the '+ Markdown' button below. Now you can type your first Markdown cell. Write 'My first markdown cell' and press run.\n",
        "\n",
        "You should see something like this:"
      ],
      "metadata": {
        "id": "Hb7DajXJKXdM"
      }
    },
    {
      "cell_type": "markdown",
      "source": [
        "My first markdown cell"
      ],
      "metadata": {
        "id": "xU2oBgj_KXdO"
      }
    },
    {
      "cell_type": "markdown",
      "source": [
        "Now try making your first _Code_ cell: follow the same steps as before but click \"+ Code\". Type something like 3/2. You should see '1.5' as output."
      ],
      "metadata": {
        "id": "TH-ePTENKXdP"
      }
    },
    {
      "cell_type": "code",
      "source": [
        "3/2"
      ],
      "metadata": {
        "execution": {
          "iopub.status.busy": "2022-04-24T20:01:13.917336Z",
          "iopub.execute_input": "2022-04-24T20:01:13.917666Z",
          "iopub.status.idle": "2022-04-24T20:01:13.92343Z",
          "shell.execute_reply.started": "2022-04-24T20:01:13.917621Z",
          "shell.execute_reply": "2022-04-24T20:01:13.922665Z"
        },
        "trusted": true,
        "id": "NGdPiSW5KXdR",
        "outputId": "2d08f003-3786-42ba-d1d9-199a0b2bac2e",
        "colab": {
          "base_uri": "https://localhost:8080/"
        }
      },
      "execution_count": 6,
      "outputs": [
        {
          "output_type": "execute_result",
          "data": {
            "text/plain": [
              "1.5"
            ]
          },
          "metadata": {},
          "execution_count": 6
        }
      ]
    },
    {
      "cell_type": "markdown",
      "source": [
        "## Modes"
      ],
      "metadata": {
        "id": "MrTe1_qYKXdV"
      }
    },
    {
      "cell_type": "markdown",
      "source": [
        "If you made a mistake in your *Markdown* cell and you have already run it, you will notice that you cannot edit it just by clicking on it. This is because you are in **Command Mode**. Jupyter Notebooks have two distinct modes:\n",
        "\n",
        "- Edit Mode:: Allows you to edit a cell's content.\n",
        "\n",
        "- Command Mode:: Allows you to edit the notebook as a whole and use keyboard shortcuts but not edit a cell's content.\n",
        "\n",
        "You can toggle between these two by either pressing <kbd>ESC</kbd> and <kbd>Enter</kbd> or clicking outside a cell or inside it (you need to double click if it's a Markdown cell). You can always tell which mode you're on: the current cell will have a green border in **Edit Mode** and a blue border in **Command Mode**. Try it!\n"
      ],
      "metadata": {
        "id": "mN8LZomWKXdW"
      }
    },
    {
      "cell_type": "markdown",
      "source": [
        "## Other Important Considerations"
      ],
      "metadata": {
        "id": "X4ijtxJuKXdY"
      }
    },
    {
      "cell_type": "markdown",
      "source": [
        "Your notebook is autosaved every 120 seconds. If you want to manually save it you can just press the \"save version\" button on the upper right corner.\n",
        "\n",
        "To know if your *kernel* (the Python engine executing your instructions behind the scenes) is computing or not, you can check the icon to the left of your cell. If the dot spinning, it means that the kernel is working. If not, it is idle.\n",
        "\n",
        "There are a couple of shortcuts you must know about which we use **all** the time (always in **Command Mode**). These are:\n",
        "\n",
        "- <kbd>Shift</kbd>+<kbd>Enter</kbd>: Run the code or markdown on a cell\n",
        "- <kbd>Up Arrow</kbd> / <kbd>Down Arrow</kbd>: Toggle across cells\n",
        "- <kbd>b</kbd>: Create new cell underneath this one\n",
        "- <kbd>0</kbd>+<kbd>0</kbd>: Reset Kernel\n",
        "\n",
        "You can find more shortcuts by typing <kbd>h</kbd> (for help).\n",
        "\n",
        "You may need to use shell commands, like `ls` or `cat` in a Jupyter Notebook environment. That is very easy to do: just type `!` before you shell command, like so:"
      ],
      "metadata": {
        "id": "6_it0aTlKXda"
      }
    },
    {
      "cell_type": "code",
      "source": [
        "!pwd"
      ],
      "metadata": {
        "execution": {
          "iopub.status.busy": "2022-04-24T20:05:01.750722Z",
          "iopub.execute_input": "2022-04-24T20:05:01.751028Z",
          "iopub.status.idle": "2022-04-24T20:05:02.49447Z",
          "shell.execute_reply.started": "2022-04-24T20:05:01.750992Z",
          "shell.execute_reply": "2022-04-24T20:05:02.493731Z"
        },
        "trusted": true,
        "id": "46b1krebKXdb",
        "outputId": "296b616f-6c59-4e0e-a272-41355f715fef",
        "colab": {
          "base_uri": "https://localhost:8080/"
        }
      },
      "execution_count": 7,
      "outputs": [
        {
          "output_type": "stream",
          "name": "stdout",
          "text": [
            "/content\n"
          ]
        }
      ]
    },
    {
      "cell_type": "markdown",
      "source": [
        "That's it. This is all you need to know to use Jupyter Notebooks. That said, we have more tips and tricks below... There's a lot you can do with notebooks -- in fact, we published [a whole book](https://www.amazon.com/Deep-Learning-Coders-fastai-PyTorch/dp/1492045527) written entirely as notebooks!"
      ],
      "metadata": {
        "id": "ZJcgtI3QKXdd"
      }
    },
    {
      "cell_type": "markdown",
      "source": [
        "## Markdown Formatting\n"
      ],
      "metadata": {
        "id": "V0RNSO8VKXde"
      }
    },
    {
      "cell_type": "markdown",
      "source": [
        "### Images"
      ],
      "metadata": {
        "id": "lHdBkoWMKXdf"
      }
    },
    {
      "cell_type": "markdown",
      "source": [
        "Did you know that the Jupyter Notebook team won the highest honor for a software system, the ACM Software System Award?"
      ],
      "metadata": {
        "id": "q5rFWSvXKXdh"
      }
    },
    {
      "cell_type": "markdown",
      "source": [
        "![image.png](attachment:e8fe737f-c301-41ec-a462-cf16cee3cbb7.png)"
      ],
      "metadata": {
        "id": "iDOWcdNzKXdj"
      }
    },
    {
      "cell_type": "markdown",
      "source": [
        "And did you know that you can add images to your notebook, like I did in the cell above? To do so, just copy your image on your computer, and paste it into a markdown cell. You'll see something like this:\n",
        "\n",
        "    ![image.png](attachment:e8fe737f-c301-41ec-a462-cf16cee3cbb7.png)\n",
        "\n",
        "When you execute the cell, you'll see the image appear."
      ],
      "metadata": {
        "id": "HZkb2FcmKXdk"
      }
    },
    {
      "cell_type": "markdown",
      "source": [
        "### Italics, Bold, Strikethrough, Inline, Blockquotes and Links"
      ],
      "metadata": {
        "id": "LXOIvWGIKXdn"
      }
    },
    {
      "cell_type": "markdown",
      "source": [
        "The five most important concepts to format your code appropriately when using Markdown are:\n",
        "    \n",
        "- *Italics*:: Surround your text with \\_ or \\*.\n",
        "\n",
        "- **Bold**:: Surround your text with \\__ or \\**.\n",
        "\n",
        "- `inline`:: Surround your text with \\`.\n",
        "\n",
        "- blockquote:: Place \\> before your text.\n",
        "\n",
        "- [Links](http://course-v3.fast.ai/):: Surround the text you want to link with \\[\\] and place the link adjacent to the text, surrounded with ().\n",
        "\n"
      ],
      "metadata": {
        "id": "b7wS9P8CKXdo"
      }
    },
    {
      "cell_type": "markdown",
      "source": [
        "### Headings"
      ],
      "metadata": {
        "id": "d65-Z20xKXdp"
      }
    },
    {
      "cell_type": "markdown",
      "source": [
        "Notice that including a hashtag before the text in a markdown cell makes the text a heading. The number of hashtags you include will determine the priority of the header (# is level one, ## is level two, ### is level three and #### is level four). We will add three new cells with the + button on the left to see how every level of heading looks.\n",
        "\n",
        "In the notebook, double click on some headings and find out what level they are!\n"
      ],
      "metadata": {
        "id": "eIAcfsA9KXdq"
      }
    },
    {
      "cell_type": "markdown",
      "source": [
        "### Lists"
      ],
      "metadata": {
        "id": "tQy91_eOKXdr"
      }
    },
    {
      "cell_type": "markdown",
      "source": [
        "There are three types of lists in markdown.\n",
        "\n",
        "Ordered list:\n",
        "\n",
        "1. Step 1\n",
        "    2. Step 1B\n",
        "3. Step 3\n",
        "\n",
        "Unordered list\n",
        "\n",
        "* learning rate\n",
        "* cycle length\n",
        "* weight decay\n",
        "\n",
        "Task list\n",
        "\n",
        "- [x] Learn Jupyter Notebooks\n",
        "    - [x] Writing\n",
        "    - [x] Modes\n",
        "    - [x] Other Considerations\n",
        "- [ ] Change the world\n",
        "\n",
        "In the notebook, double click on them to see how they are built!\n"
      ],
      "metadata": {
        "id": "0WFSN7G8KXds"
      }
    },
    {
      "cell_type": "markdown",
      "source": [
        "## Code Capabilities"
      ],
      "metadata": {
        "id": "4oHoRnaqKXdt"
      }
    },
    {
      "cell_type": "markdown",
      "source": [
        "**Code** cells are different than **Markdown** cells in that they have an output cell. This means that we can _keep_ the results of our code within the notebook and share them. Let's say we want to show a graph that explains the result of an experiment. We can just run the necessary cells and save the notebook. The output will be there when we open it again! Try it out by running the next two cells."
      ],
      "metadata": {
        "id": "4ZEHnfSJKXdu"
      }
    },
    {
      "cell_type": "code",
      "source": [
        "a = 1\n",
        "b = a + 1\n",
        "c = b + a + 1\n",
        "d = c + b + a + 1\n",
        "a, b, c ,d"
      ],
      "metadata": {
        "execution": {
          "iopub.status.busy": "2022-04-24T20:17:26.204129Z",
          "iopub.execute_input": "2022-04-24T20:17:26.204587Z",
          "iopub.status.idle": "2022-04-24T20:17:26.210903Z",
          "shell.execute_reply.started": "2022-04-24T20:17:26.204552Z",
          "shell.execute_reply": "2022-04-24T20:17:26.210032Z"
        },
        "trusted": true,
        "id": "Crl5w-DtKXdu",
        "outputId": "37fea086-94e1-40ac-e76f-9cf0fddb7b2e",
        "colab": {
          "base_uri": "https://localhost:8080/"
        }
      },
      "execution_count": 8,
      "outputs": [
        {
          "output_type": "execute_result",
          "data": {
            "text/plain": [
              "(1, 2, 4, 8)"
            ]
          },
          "metadata": {},
          "execution_count": 8
        }
      ]
    },
    {
      "cell_type": "code",
      "source": [
        "import matplotlib.pyplot as plt\n",
        "\n",
        "plt.plot([a,b,c,d], \".\")\n",
        "plt.show()"
      ],
      "metadata": {
        "execution": {
          "iopub.status.busy": "2022-04-24T20:17:27.213474Z",
          "iopub.execute_input": "2022-04-24T20:17:27.213767Z",
          "iopub.status.idle": "2022-04-24T20:17:27.428066Z",
          "shell.execute_reply.started": "2022-04-24T20:17:27.213738Z",
          "shell.execute_reply": "2022-04-24T20:17:27.426435Z"
        },
        "trusted": true,
        "id": "yOT31LGnKXdv",
        "outputId": "ef20a3f8-eada-4790-de69-298ce6fb2fb5",
        "colab": {
          "base_uri": "https://localhost:8080/",
          "height": 430
        }
      },
      "execution_count": 14,
      "outputs": [
        {
          "output_type": "display_data",
          "data": {
            "text/plain": [
              "<Figure size 640x480 with 1 Axes>"
            ],
            "image/png": "[encoded data removed]"
          },
          "metadata": {}
        }
      ]
    },
    {
      "cell_type": "markdown",
      "source": [
        "## Running Jupyter Locally"
      ],
      "metadata": {
        "id": "eTcY8WkfKXdx"
      }
    },
    {
      "cell_type": "markdown",
      "source": [
        "This notebook is running inside Kaggle. You can also run notebooks inside other cloud environments such as [Colab](https://colab.research.google.com), [Sagemaker Studio Lab](https://studiolab.sagemaker.aws/), and [Paperspace Gradient](https://gradient.run/notebooks). Or you can run a Jupyter Notebook server from your local computer. What's more, if you have installed Anaconda you don't even need to install Jupyter (if not, just `pip install jupyter`).\n",
        "\n",
        "You just need to run `jupyter notebook` in your terminal. Remember to run it from a folder that contains all the folders/files you will want to access. You will be able to open, view, and edit files located within the directory in which you run this command but not files in parent directories.\n",
        "\n",
        "If a browser tab does not open automatically once you run the command, you should CTRL+CLICK the link starting with 'http://localhost:' and this will open a new tab in your default browser.\n"
      ],
      "metadata": {
        "id": "i_H_iu7CKXdz"
      }
    },
    {
      "cell_type": "markdown",
      "source": [
        "## Shortcuts and Tricks"
      ],
      "metadata": {
        "id": "biQqIAXKKXd0"
      }
    },
    {
      "cell_type": "markdown",
      "source": [
        "Here is a list of useful tricks when in a Jupyter Notebook. Make sure you learn them early and use them as often as you can!\n"
      ],
      "metadata": {
        "id": "Ln_A07VIKXd2"
      }
    },
    {
      "cell_type": "markdown",
      "source": [
        "### Command Mode Shortcuts"
      ],
      "metadata": {
        "id": "86jWRV8vKXd4"
      }
    },
    {
      "cell_type": "markdown",
      "source": [
        "There are a couple of useful keyboard shortcuts in `Command Mode` that you can leverage to make Jupyter Notebook faster to use. Remember that you can switch back and forth between `Command Mode` and `Edit Mode` with <kbd>Esc</kbd> and <kbd>Enter</kbd>.\n",
        "\n",
        "- m:: Convert cell to Markdown\n",
        "- y:: Convert cell to Code\n",
        "- d+d:: Delete cell\n",
        "- o:: Toggle between hide or show output\n",
        "- Shift+Arrow up/Arrow down:: Select multiple cells. Once you have selected them you can operate on them like a batch (run, copy, paste etc).\n",
        "- Shift+M:: Merge selected cells\n"
      ],
      "metadata": {
        "id": "_FNEweklKXd5"
      }
    },
    {
      "cell_type": "markdown",
      "source": [
        "### Cell Tricks"
      ],
      "metadata": {
        "id": "sFV2XTQSKXd6"
      }
    },
    {
      "cell_type": "markdown",
      "source": [
        "There are also some tricks that you can code into a cell:\n",
        "\n",
        "- `?function-name`:: Shows the definition and docstring for that function\n",
        "- `??function-name`:: Shows the source code for that function\n",
        "- `doc(function-name)`:: Shows the definition, docstring **and links to the documentation** of the function\n",
        "(only works with fastai library imported)\n",
        "- Shift+Tab (press once):: See which parameters to pass to a function\n",
        "- Shift+Tab (press three times):: Get additional information on the method\n",
        "\n",
        "Here's an example of using `?` to learn about Python's `print()` function:"
      ],
      "metadata": {
        "id": "1J1LawKNKXd7"
      }
    },
    {
      "cell_type": "code",
      "source": [
        "?print"
      ],
      "metadata": {
        "execution": {
          "iopub.status.busy": "2022-04-24T20:19:08.469088Z",
          "iopub.execute_input": "2022-04-24T20:19:08.469889Z",
          "iopub.status.idle": "2022-04-24T20:19:08.474222Z",
          "shell.execute_reply.started": "2022-04-24T20:19:08.469852Z",
          "shell.execute_reply": "2022-04-24T20:19:08.473469Z"
        },
        "trusted": true,
        "id": "j52g9kg4KXd8"
      },
      "execution_count": 15,
      "outputs": []
    },
    {
      "cell_type": "markdown",
      "source": [
        "### Line Magics"
      ],
      "metadata": {
        "id": "naiOc2-OKXd9"
      }
    },
    {
      "cell_type": "markdown",
      "source": [
        "Line magics are functions that you can run on cells. They should be at the beginning of a line and take as an argument the rest of the line from where they are called. You call them by placing a '%' sign before the command. The most useful ones are:\n",
        "\n",
        "- `%matplotlib inline`:: Ensures that all matplotlib plots will be plotted in the output cell within the notebook and will be kept in the notebook when saved.\n",
        "\n",
        "This command is always called together at the beginning of every notebook of the fast.ai course.\n",
        "\n",
        "``` python\n",
        "%matplotlib inline\n",
        "```\n",
        "\n",
        "- `%timeit`:: Runs a line ten thousand times and displays the average time it took to run."
      ],
      "metadata": {
        "id": "oyfdlOxgKXd9"
      }
    },
    {
      "cell_type": "code",
      "source": [
        "%timeit [i+1 for i in range(1000)]"
      ],
      "metadata": {
        "execution": {
          "iopub.status.busy": "2022-04-24T20:10:13.839549Z",
          "iopub.execute_input": "2022-04-24T20:10:13.839892Z",
          "iopub.status.idle": "2022-04-24T20:10:18.121665Z",
          "shell.execute_reply.started": "2022-04-24T20:10:13.839856Z",
          "shell.execute_reply": "2022-04-24T20:10:18.120991Z"
        },
        "trusted": true,
        "id": "flH7LDp3KXd-",
        "outputId": "d0b92815-0c87-482a-9179-4d67010cb737",
        "colab": {
          "base_uri": "https://localhost:8080/"
        }
      },
      "execution_count": 16,
      "outputs": [
        {
          "output_type": "stream",
          "name": "stdout",
          "text": [
            "67.1 µs ± 808 ns per loop (mean ± std. dev. of 7 runs, 10000 loops each)\n"
          ]
        }
      ]
    },
    {
      "cell_type": "markdown",
      "source": [
        "`%debug`: Inspects a function which is showing an error using the [Python debugger](https://docs.python.org/3/library/pdb.html). If you type this in a cell just after an error, you will be directed to a console where you can inspect the values of all the variables.\n"
      ],
      "metadata": {
        "id": "LP_GcaFYKXeA"
      }
    },
    {
      "cell_type": "markdown",
      "source": [
        "## Thanks for reading!"
      ],
      "metadata": {
        "id": "-Kvkm9WSKXeB"
      }
    },
    {
      "cell_type": "markdown",
      "source": [
        "If you found this notebook useful, I'd greatly appreciate an upvote (on my original notebook [here](https://www.kaggle.com/code/jhoward/jupyter-notebook-101), not on the copy you made of it!) Don't hesitate to add a comment if you have any questions or thoughts to add, or have your own favorite Jupyter tips."
      ],
      "metadata": {
        "id": "ydoI3rw8KXeD"
      }
    }
  ]
}